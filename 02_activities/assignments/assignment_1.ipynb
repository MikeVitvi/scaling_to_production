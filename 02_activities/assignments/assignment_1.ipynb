{
 "cells": [
  {
   "cell_type": "markdown",
   "metadata": {},
   "source": [
    "# Working with parquet files\n",
    "\n",
    "## Objective\n",
    "\n",
    "+ In this assignment, we will use the data downloaded with the module `data_manager` to create features.\n",
    "\n",
    "(11 pts total)\n",
    "\n",
    "## Prerequisites\n",
    "\n",
    "+ This notebook assumes that price data is available to you in the environment variable `PRICE_DATA`. If you have not done so, then execute the notebook `production_2_data_engineering.ipynb` to create this data set.\n"
   ]
  },
  {
   "cell_type": "markdown",
   "metadata": {},
   "source": [
    "+ Load the environment variables using dotenv. (1 pt)"
   ]
  },
  {
   "cell_type": "code",
   "execution_count": 1,
   "metadata": {},
   "outputs": [
    {
     "name": "stdout",
     "output_type": "stream",
     "text": [
      "PRICE_DATA path: ../../05_src/data/prices/\n"
     ]
    }
   ],
   "source": [
    "# Write your code below.\n",
    "\n",
    "from dotenv import load_dotenv\n",
    "import os\n",
    "\n",
    "# Load the .env file from the specified directory\n",
    "load_dotenv(dotenv_path='../../01_materials/labs/.env')\n",
    "\n",
    "# Check if the environment variables are loaded correctly\n",
    "price_data_path = os.getenv('PRICE_DATA')\n",
    "if price_data_path is None:\n",
    "    raise ValueError(\"PRICE_DATA environment variable is not set.\")\n",
    "print(f'PRICE_DATA path: {price_data_path}')\n",
    "\n"
   ]
  },
  {
   "cell_type": "code",
   "execution_count": 2,
   "metadata": {},
   "outputs": [],
   "source": [
    "import dask\n",
    "dask.config.set({'dataframe.query-planning': True})\n",
    "import dask.dataframe as dd"
   ]
  },
  {
   "cell_type": "markdown",
   "metadata": {},
   "source": [
    "+ Load the environment variable `PRICE_DATA`.\n",
    "+ Use [glob](https://docs.python.org/3/library/glob.html) to find the path of all parquet files in the directory `PRICE_DATA`.\n",
    "\n",
    "(1pt)"
   ]
  },
  {
   "cell_type": "code",
   "execution_count": 3,
   "metadata": {},
   "outputs": [
    {
     "name": "stdout",
     "output_type": "stream",
     "text": [
      "Found 22484 parquet files.\n"
     ]
    }
   ],
   "source": [
    "import os\n",
    "from glob import glob\n",
    "\n",
    "# Write your code below.\n",
    "\n",
    "parquet_files = glob(os.path.join(price_data_path, '**', '*.parquet'), recursive=True)\n",
    "print(f'Found {len(parquet_files)} parquet files.')\n",
    "\n"
   ]
  },
  {
   "cell_type": "markdown",
   "metadata": {},
   "source": [
    "For each ticker and using Dask, do the following:\n",
    "\n",
    "+ Add lags for variables Close and Adj_Close.\n",
    "+ Add returns based on Adjusted Close:\n",
    "    \n",
    "    - `returns`: (Adj Close / Adj Close_lag) - 1\n",
    "\n",
    "+ Add the following range: \n",
    "\n",
    "    - `hi_lo_range`: this is the day's High minus Low.\n",
    "\n",
    "+ Assign the result to `dd_feat`.\n",
    "\n",
    "(4 pt)"
   ]
  },
  {
   "cell_type": "code",
   "execution_count": 4,
   "metadata": {},
   "outputs": [
    {
     "name": "stdout",
     "output_type": "stream",
     "text": [
      "Empty DataFrame\n",
      "Columns: [Close_lag_1, Adj_Close_lag_1, returns, hi_lo_range]\n",
      "Index: []\n"
     ]
    },
    {
     "name": "stderr",
     "output_type": "stream",
     "text": [
      "/Users/mishavitvinov/miniconda3/envs/dsi_participant/lib/python3.9/site-packages/dask/dataframe/core.py:8391: UserWarning: Insufficient elements for `head`. 5 elements requested, only 0 elements available. Try passing larger `npartitions` to `head`.\n",
      "  warnings.warn(\n"
     ]
    }
   ],
   "source": [
    "# Write your code below.\n",
    "\n",
    "import dask.dataframe as dd\n",
    "import os\n",
    "import glob\n",
    "\n",
    "# Define the path to your parquet files\n",
    "price_data_path = \"../../05_src/data/prices/\"\n",
    "\n",
    "# List all parquet files recursively\n",
    "def list_parquet_files(directory):\n",
    "    parquet_files = []\n",
    "    for root, dirs, files in os.walk(directory):\n",
    "        for file in files:\n",
    "            if file.endswith(\".parquet\"):\n",
    "                parquet_files.append(os.path.join(root, file))\n",
    "    return parquet_files\n",
    "\n",
    "# Load all parquet files into a Dask DataFrame\n",
    "parquet_files = list_parquet_files(price_data_path)\n",
    "dd_px = dd.read_parquet(parquet_files).set_index(\"ticker\")\n",
    "\n",
    "# Define meta for expected output columns and types\n",
    "meta = {\n",
    "    'Close_lag_1': 'f8',          # Float type for Close lag\n",
    "    'Adj_Close_lag_1': 'f8',      # Float type for Adjusted Close lag\n",
    "    'returns': 'f8',              # Float type for returns\n",
    "    'hi_lo_range': 'f8'           # Float type for high-low range\n",
    "}\n",
    "\n",
    "# Group by 'ticker' and calculate lags, returns, and range\n",
    "dd_feat = (\n",
    "    dd_px.groupby('ticker', group_keys=False)\n",
    "    .apply(lambda x: x.assign(\n",
    "        Close_lag_1 = x['Close'].shift(1),\n",
    "        Adj_Close_lag_1 = x['Adj Close'].shift(1),\n",
    "        returns = (x['Adj Close'] / x['Adj Close'].shift(1)) - 1,\n",
    "        hi_lo_range = x['High'] - x['Low']\n",
    "    ), meta=meta)\n",
    ")\n",
    "\n",
    "# Print the first few rows of dd_feat for verification\n",
    "print(dd_feat.head())\n",
    "\n",
    "\n",
    "\n",
    "\n",
    "\n",
    "\n",
    "\n",
    "\n",
    "\n"
   ]
  },
  {
   "cell_type": "markdown",
   "metadata": {},
   "source": [
    "+ Convert the Dask data frame to a pandas data frame. \n",
    "+ Add a rolling average return calculation with a window of 10 days.\n",
    "+ *Tip*: Consider using `.rolling(10).mean()`.\n",
    "\n",
    "(3 pt)"
   ]
  },
  {
   "cell_type": "code",
   "execution_count": 5,
   "metadata": {},
   "outputs": [
    {
     "name": "stdout",
     "output_type": "stream",
     "text": [
      "Index(['Close_lag_1', 'Adj_Close_lag_1', 'returns', 'hi_lo_range'], dtype='object')\n"
     ]
    }
   ],
   "source": [
    "print(dd_feat.columns)\n"
   ]
  },
  {
   "cell_type": "code",
   "execution_count": 6,
   "metadata": {},
   "outputs": [
    {
     "name": "stderr",
     "output_type": "stream",
     "text": [
      "/var/folders/g5/lrw0qppn61vdzgfk_np6yxmr0000gn/T/ipykernel_17240/1438167890.py:28: UserWarning: `meta` is not specified, inferred from partial data. Please provide `meta` if the result is unexpected.\n",
      "  Before: .apply(func)\n",
      "  After:  .apply(func, meta={'x': 'f8', 'y': 'f8'}) for dataframe result\n",
      "  or:     .apply(func, meta=('x', 'f8'))            for series result\n",
      "  dd_px.groupby('ticker', group_keys=False)\n"
     ]
    },
    {
     "name": "stdout",
     "output_type": "stream",
     "text": [
      "Index(['Date', 'Open', 'High', 'Low', 'Close', 'Adj Close', 'Volume', 'sector',\n",
      "       'subsector', 'year', 'Close_lag_1', 'Adj_Close_lag_1', 'returns',\n",
      "       'hi_lo_range'],\n",
      "      dtype='object')\n",
      "Error: 'ticker' column not found in DataFrame.\n",
      "        Date       Open       High        Low      Close  Adj Close   Volume  \\\n",
      "0 2005-01-03  27.956232  27.956232  27.026913  27.089188  16.288546  3756753   \n",
      "1 2005-01-04  27.089188  27.175411  26.768236  26.787397  16.107073  4629348   \n",
      "2 2005-01-05  25.953884  26.959848  25.949095  26.638899  16.017790  5355607   \n",
      "3 2005-01-06  26.638899  27.367023  26.590996  27.146669  16.323109  3806228   \n",
      "4 2005-01-07  27.146669  27.146669  26.629316  26.705961  16.058121  7627486   \n",
      "\n",
      "   sector                           subsector  year  Close_lag_1  \\\n",
      "0  Energy  Oil & Gas Exploration & Production  2005          NaN   \n",
      "1  Energy  Oil & Gas Exploration & Production  2005    27.089188   \n",
      "2  Energy  Oil & Gas Exploration & Production  2005    26.787397   \n",
      "3  Energy  Oil & Gas Exploration & Production  2005    26.638899   \n",
      "4  Energy  Oil & Gas Exploration & Production  2005    27.146669   \n",
      "\n",
      "   Adj_Close_lag_1   returns  hi_lo_range  \n",
      "0              NaN       NaN     0.929319  \n",
      "1        16.288546 -0.011141     0.407175  \n",
      "2        16.107073 -0.005543     1.010754  \n",
      "3        16.017790  0.019061     0.776028  \n",
      "4        16.323109 -0.016234     0.517353  \n"
     ]
    }
   ],
   "source": [
    "# Write your code below.\n",
    "\n",
    "\n",
    "# Import necessary libraries\n",
    "import os\n",
    "import glob\n",
    "import dask.dataframe as dd\n",
    "import pandas as pd\n",
    "\n",
    "# Define the path to your parquet files\n",
    "price_data_path = \"../../05_src/data/prices/\"\n",
    "\n",
    "# List all parquet files recursively\n",
    "def list_parquet_files(directory):\n",
    "    parquet_files = []\n",
    "    for root, dirs, files in os.walk(directory):\n",
    "        for file in files:\n",
    "            if file.endswith(\".parquet\"):\n",
    "                parquet_files.append(os.path.join(root, file))\n",
    "    return parquet_files\n",
    "\n",
    "# Load all parquet files into a Dask DataFrame\n",
    "parquet_files = list_parquet_files(price_data_path)\n",
    "dd_px = dd.read_parquet(parquet_files).set_index(\"ticker\")\n",
    "\n",
    "# Group by 'ticker' and calculate lags, returns, and range\n",
    "dd_feat = (\n",
    "    dd_px.groupby('ticker', group_keys=False)\n",
    "    .apply(lambda x: x.assign(\n",
    "        Close_lag_1 = x['Close'].shift(1),\n",
    "        Adj_Close_lag_1 = x['Adj Close'].shift(1),\n",
    "        returns = (x['Adj Close'] / x['Adj Close'].shift(1)) - 1,\n",
    "        hi_lo_range = x['High'] - x['Low']\n",
    "    ))\n",
    ")\n",
    "\n",
    "# Convert Dask DataFrame to Pandas DataFrame\n",
    "df_px_pd = dd_feat.compute()\n",
    "\n",
    "# Reset index to avoid duplicate index labels\n",
    "df_px_pd = df_px_pd.reset_index(drop=True)\n",
    "\n",
    "# Check column names to verify 'ticker' column is present\n",
    "print(df_px_pd.columns)\n",
    "\n",
    "# Calculate rolling average return with window of 10 days\n",
    "if 'ticker' in df_px_pd.columns:\n",
    "    df_px_pd['rolling_avg_return'] = df_px_pd.groupby('ticker')['returns'].rolling(10).mean().reset_index(level=0, drop=True)\n",
    "else:\n",
    "    print(\"Error: 'ticker' column not found in DataFrame.\")\n",
    "\n",
    "# Print the first few rows of df_px_pd for verification\n",
    "print(df_px_pd.head())\n",
    "\n",
    "\n",
    "\n",
    "\n",
    "\n",
    "\n",
    "\n",
    "\n",
    "\n"
   ]
  },
  {
   "cell_type": "markdown",
   "metadata": {},
   "source": [
    "Please comment:\n",
    "\n",
    "+ Was it necessary to convert to pandas to calculate the moving average return?\n",
    "+ Would it have been better to do it in Dask? Why?\n",
    "\n",
    "(1 pt)"
   ]
  },
  {
   "cell_type": "markdown",
   "metadata": {},
   "source": [
    "1) Converting to Pandas was necessary in this case because Pandas provides direct support for rolling calculations like .rolling(10).mean(). Dask, on the other hand, does not directly support rolling operations that involve dependencies across partitions. Therefore, to perform the rolling average return calculation efficiently and effectively, converting to Pandas was the practical choice.\n",
    "\n",
    "2) Performing the rolling average return calculation in Dask could have been challenging and less efficient due to Dask's limitations with rolling operations across partitions. Dask is optimized for out-of-core and parallel computation but lacks direct support for rolling calculations that require dependencies across chunks of data. Hence, while Dask is suitable for handling large datasets and parallel processing, certain complex operations, like rolling calculations, are better executed in Pandas where the data can be consolidated into memory for efficient computation.\n",
    "\n"
   ]
  },
  {
   "cell_type": "markdown",
   "metadata": {},
   "source": [
    "## Criteria\n",
    "\n",
    "|Criteria|Complete|Incomplete|\n",
    "|---------------------|----|----|\n",
    "|Calculations         |Calculations were done correctly.|Calculations were not done correctly.|\n",
    "|Explanation of answer|Answer was concise and explained the learner's reasoning in depth.|Answer was not concise and did not explained the learner's reasoning in depth.|"
   ]
  },
  {
   "cell_type": "markdown",
   "metadata": {},
   "source": [
    "## Submission Information\n",
    "\n",
    "🚨 **Please review our [Assignment Submission Guide](https://github.com/UofT-DSI/onboarding/blob/main/onboarding_documents/submissions.md)** 🚨 for detailed instructions on how to format, branch, and submit your work. Following these guidelines is crucial for your submissions to be evaluated correctly.\n",
    "\n",
    "### Submission Parameters:\n",
    "* Submission Due Date: `HH:MM AM/PM - DD/MM/YYYY`\n",
    "* The branch name for your repo should be: `assignment-1`\n",
    "* What to submit for this assignment:\n",
    "    * This Jupyter Notebook (assignment_1.ipynb) should be populated and should be the only change in your pull request.\n",
    "* What the pull request link should look like for this assignment: `https://github.com/<your_github_username>/production/pull/<pr_id>`\n",
    "    * Open a private window in your browser. Copy and paste the link to your pull request into the address bar. Make sure you can see your pull request properly. This helps the technical facilitator and learning support staff review your submission easily.\n",
    "\n",
    "Checklist:\n",
    "- [ ] Created a branch with the correct naming convention.\n",
    "- [ ] Ensured that the repository is public.\n",
    "- [ ] Reviewed the PR description guidelines and adhered to them.\n",
    "- [ ] Verify that the link is accessible in a private browser window.\n",
    "\n",
    "If you encounter any difficulties or have questions, please don't hesitate to reach out to our team via our Slack at `#cohort-3-help`. Our Technical Facilitators and Learning Support staff are here to help you navigate any challenges."
   ]
  }
 ],
 "metadata": {
  "kernelspec": {
   "display_name": "env",
   "language": "python",
   "name": "python3"
  },
  "language_info": {
   "codemirror_mode": {
    "name": "ipython",
    "version": 3
   },
   "file_extension": ".py",
   "mimetype": "text/x-python",
   "name": "python",
   "nbconvert_exporter": "python",
   "pygments_lexer": "ipython3",
   "version": "3.9.18"
  }
 },
 "nbformat": 4,
 "nbformat_minor": 2
}
